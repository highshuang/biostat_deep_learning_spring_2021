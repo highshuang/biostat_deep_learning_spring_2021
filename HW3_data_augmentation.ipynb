{
  "nbformat": 4,
  "nbformat_minor": 0,
  "metadata": {
    "kernelspec": {
      "display_name": "Python 3",
      "language": "python",
      "name": "python3"
    },
    "language_info": {
      "codemirror_mode": {
        "name": "ipython",
        "version": 3
      },
      "file_extension": ".py",
      "mimetype": "text/x-python",
      "name": "python",
      "nbconvert_exporter": "python",
      "pygments_lexer": "ipython3",
      "version": "3.7.6"
    },
    "colab": {
      "name": "HW3_data_augmentation.ipynb",
      "provenance": [],
      "collapsed_sections": [],
      "include_colab_link": true
    }
  },
  "cells": [
    {
      "cell_type": "markdown",
      "metadata": {
        "id": "view-in-github",
        "colab_type": "text"
      },
      "source": [
        "<a href=\"https://colab.research.google.com/github/highshuang/biostat_deep_learning_spring_2021/blob/develop/HW3_data_augmentation.ipynb\" target=\"_parent\"><img src=\"https://colab.research.google.com/assets/colab-badge.svg\" alt=\"Open In Colab\"/></a>"
      ]
    },
    {
      "cell_type": "code",
      "metadata": {
        "colab": {
          "base_uri": "https://localhost:8080/"
        },
        "id": "NAHqq-HaHlvf",
        "outputId": "b90a8414-30e9-4377-e1b9-1b2c800e6503"
      },
      "source": [
        "import tensorflow as tf\n",
        "import matplotlib.pyplot as plt\n",
        "import matplotlib.image as mpimg\n",
        "import tensorflow.keras as keras #\n",
        "import numpy as np\n",
        "##import data: \n",
        "## mount your google drive: \n",
        "from google.colab import drive\n",
        "drive.mount('/content/drive')\n"
      ],
      "execution_count": null,
      "outputs": [
        {
          "output_type": "stream",
          "text": [
            "Mounted at /content/drive\n"
          ],
          "name": "stdout"
        }
      ]
    },
    {
      "cell_type": "code",
      "metadata": {
        "id": "AoJ_gHK2JV01"
      },
      "source": [
        "#!pip install imgaug\n",
        "import imageio\n",
        "import imgaug as ia\n",
        "import imgaug.augmenters as iaa\n",
        "import numpy as np\n",
        "import pandas as pd\n",
        "import matplotlib.pyplot as plt\n",
        "import matplotlib.patches as patches\n",
        "import matplotlib\n",
        "%matplotlib inline"
      ],
      "execution_count": 3,
      "outputs": []
    },
    {
      "cell_type": "code",
      "metadata": {
        "id": "mEOHi9DQJG1y",
        "colab": {
          "base_uri": "https://localhost:8080/",
          "height": 583
        },
        "outputId": "3b420d82-c59a-4206-cdc8-2d8a5fc731b2"
      },
      "source": [
        "##path = 'drive/My Drive/deep-learning-colab/mnist.npz'\n",
        "path = 'mnist.npz'\n",
        "(train_images, train_labels), (test_images, test_labels) = tf.keras.datasets.mnist.load_data(path)\n",
        "print(train_images.shape)\n",
        "print(train_labels.shape)\n",
        "fig, axs = plt.subplots(2,2)\n",
        "for ii in np.arange(0,2):\n",
        "    for jj in np.arange(0,2):\n",
        "        axs[ii,jj].imshow(train_images[ii*2+jj,:,:])\n",
        "        axs[ii,jj].title.set_text(train_labels[ii*2+jj])\n",
        "##print(range(0,2))\n",
        "##plt.show()\n",
        "\n",
        "# example of the image transformation \n",
        "image = train_images[0,:,:]\n",
        "ia.imshow(image)\n",
        "\n",
        "# 1. rotation between -50 degree to 30 degree\n",
        "rotate=iaa.Affine(rotate=(-50, 30))\n",
        "rotated_image=rotate.augment_image(image)\n",
        "ia.imshow(rotated_image)\n",
        "\n",
        "# 2. additive gaussian noise \n",
        "gaussian_noise=iaa.AdditiveGaussianNoise(10,20)\n",
        "noise_image=gaussian_noise.augment_image(image)\n",
        "ia.imshow(noise_image)\n",
        "\n",
        "# 3. shearing \n",
        "shear = iaa.Affine(shear=(0,40))\n",
        "shear_image=shear.augment_image(image)\n",
        "ia.imshow(shear_image)\n"
      ],
      "execution_count": 8,
      "outputs": [
        {
          "output_type": "stream",
          "text": [
            "(60000, 28, 28)\n",
            "(60000,)\n"
          ],
          "name": "stdout"
        },
        {
          "output_type": "display_data",
          "data": {
            "image/png": "[encoded data removed]",
            "text/plain": [
              "<Figure size 432x288 with 4 Axes>"
            ]
          },
          "metadata": {
            "tags": [],
            "needs_background": "light"
          }
        },
        {
          "output_type": "display_data",
          "data": {
            "image/png": "[encoded data removed]",
            "text/plain": [
              "<Figure size 576x28 with 1 Axes>"
            ]
          },
          "metadata": {
            "tags": [],
            "needs_background": "light"
          }
        },
        {
          "output_type": "display_data",
          "data": {
            "image/png": "[encoded data removed]",
            "text/plain": [
              "<Figure size 576x28 with 1 Axes>"
            ]
          },
          "metadata": {
            "tags": [],
            "needs_background": "light"
          }
        },
        {
          "output_type": "display_data",
          "data": {
            "image/png": "[encoded data removed]",
            "text/plain": [
              "<Figure size 576x28 with 1 Axes>"
            ]
          },
          "metadata": {
            "tags": [],
            "needs_background": "light"
          }
        },
        {
          "output_type": "display_data",
          "data": {
            "image/png": "[encoded data removed]",
            "text/plain": [
              "<Figure size 576x28 with 1 Axes>"
            ]
          },
          "metadata": {
            "tags": [],
            "needs_background": "light"
          }
        }
      ]
    },
    {
      "cell_type": "markdown",
      "metadata": {
        "id": "nybEaCfXy2Dw"
      },
      "source": [
        "Here, the MNIST dataset has 60000 rows of data points and sample size is relatively small. What we can consider is applying image augmentation to artificially create variations. In this way, we can achieve a rich and diverse data, in order to increase the performance of the model and reduce overfittting.\n"
      ]
    },
    {
      "cell_type": "code",
      "metadata": {
        "colab": {
          "base_uri": "https://localhost:8080/"
        },
        "id": "FmgQo_1oZ9nc",
        "outputId": "b5183ebf-8fea-44a9-95de-08d5153ab7e3"
      },
      "source": [
        "# Data augmentation technique 1: rotation between -50 to 30 degrees\n",
        "train_rotate =[]\n",
        "\n",
        "for i in np.arange(0, 60000):\n",
        "  image = train_images[i,:,:]\n",
        "  rotate=iaa.Affine(rotate=(-50, 30))\n",
        "  rotated_image=rotate.augment_image(image)\n",
        "  train_rotate.append(rotated_image)\n",
        "\n",
        "train_rotate = np.asarray(train_rotate)\n",
        "print(train_rotate.shape)\n",
        "\n",
        "train_rotate = np.concatenate((train_images, train_rotate), axis=0)\n",
        "print(train_rotate.shape)\n",
        "\n"
      ],
      "execution_count": 9,
      "outputs": [
        {
          "output_type": "stream",
          "text": [
            "(60000, 28, 28)\n",
            "(120000, 28, 28)\n"
          ],
          "name": "stdout"
        }
      ]
    },
    {
      "cell_type": "code",
      "metadata": {
        "colab": {
          "base_uri": "https://localhost:8080/"
        },
        "id": "bXTQUH4KsATg",
        "outputId": "9368f9fe-41cd-47dd-92d2-888a7ad4be54"
      },
      "source": [
        "from keras import models\n",
        "from keras import layers\n",
        "\n",
        "# construct a dense NN \n",
        "network = models.Sequential()\n",
        "network.add(layers.Dense(512, activation='relu', input_shape=(28 * 28,)))\n",
        "network.add(layers.Dense(10, activation='softmax'))\n",
        "\n",
        "network.compile(optimizer='rmsprop',\n",
        "loss='categorical_crossentropy',\n",
        "metrics=['accuracy'])\n",
        "\n",
        "# prepare the dimension and type of input data \n",
        "path = 'mnist.npz'\n",
        "(train_images, train_labels), (test_images, test_labels) = tf.keras.datasets.mnist.load_data(path)\n",
        "train_rotate = train_rotate.reshape((120000, 28 * 28))\n",
        "train_rotate = train_rotate.astype('float32') / 255\n",
        "#train_shear = train_shear.reshape((120000, 28 * 28))\n",
        "#train_shear = train_shear.astype('float32') / 255\n",
        "test_images = test_images.reshape((10000, 28 * 28))\n",
        "test_images = test_images.astype('float32') / 255\n",
        "train_rotate_labels = np.concatenate((train_labels,train_labels),axis = 0)\n",
        "#train_shear_labels = train_rotate_labels\n",
        "print(train_rotate_labels.shape)\n",
        "\n",
        "# prepare the label format\n",
        "from keras.utils import to_categorical\n",
        "train_rotate_labels = to_categorical(train_rotate_labels)\n",
        "test_labels = to_categorical(test_labels)\n",
        "print(train_rotate_labels.shape)\n",
        "\n",
        "# fit the model \n",
        "network.fit(train_rotate, train_rotate_labels, epochs=5, batch_size=128)\n",
        "test_loss, test_acc = network.evaluate(test_images, test_labels)\n",
        "print(test_acc)\n",
        "\n"
      ],
      "execution_count": 12,
      "outputs": [
        {
          "output_type": "stream",
          "text": [
            "(120000,)\n",
            "(120000, 10)\n",
            "Epoch 1/5\n",
            "938/938 [==============================] - 10s 10ms/step - loss: 2.3016 - accuracy: 0.1108\n",
            "Epoch 2/5\n",
            "938/938 [==============================] - 9s 10ms/step - loss: 2.3010 - accuracy: 0.1136\n",
            "Epoch 3/5\n",
            "938/938 [==============================] - 9s 10ms/step - loss: 2.3003 - accuracy: 0.1134\n",
            "Epoch 4/5\n",
            "938/938 [==============================] - 9s 10ms/step - loss: 2.2975 - accuracy: 0.1141\n",
            "Epoch 5/5\n",
            "938/938 [==============================] - 9s 10ms/step - loss: 2.2906 - accuracy: 0.1249\n",
            "313/313 [==============================] - 1s 2ms/step - loss: 22.3938 - accuracy: 0.3575\n",
            "0.35749998688697815\n"
          ],
          "name": "stdout"
        }
      ]
    },
    {
      "cell_type": "code",
      "metadata": {
        "colab": {
          "base_uri": "https://localhost:8080/"
        },
        "id": "jnd1MCjMqRdX",
        "outputId": "8b915633-9d34-48a7-ac1a-c025d47bcc28"
      },
      "source": [
        "# Data augmentation technique 2: Shearing the image by 0 to 40 degrees\n",
        "train_shear =[]\n",
        "\n",
        "for i in np.arange(0, 60000):\n",
        "  image = train_images[i,:,:]\n",
        "  shear = iaa.Affine(shear=(0,40))\n",
        "  shear_image=shear.augment_image(image)\n",
        "  train_shear.append(shear_image)\n",
        "\n",
        "train_shear = np.asarray(train_shear)\n",
        "print(train_shear.shape)\n",
        "\n",
        "train_shear = np.concatenate((train_images, train_shear), axis=0)\n",
        "print(train_shear.shape)"
      ],
      "execution_count": 16,
      "outputs": [
        {
          "output_type": "stream",
          "text": [
            "(60000, 28, 28)\n",
            "(120000, 28, 28)\n"
          ],
          "name": "stdout"
        }
      ]
    },
    {
      "cell_type": "code",
      "metadata": {
        "colab": {
          "base_uri": "https://localhost:8080/"
        },
        "id": "hEoU1rGNwQDG",
        "outputId": "583d70d4-3ab1-439b-8131-830b076c3aa7"
      },
      "source": [
        "from keras import models\n",
        "from keras import layers\n",
        "\n",
        "# construct a dense NN \n",
        "network = models.Sequential()\n",
        "network.add(layers.Dense(512, activation='relu', input_shape=(28 * 28,)))\n",
        "network.add(layers.Dense(10, activation='softmax'))\n",
        "\n",
        "network.compile(optimizer='rmsprop',\n",
        "loss='categorical_crossentropy',\n",
        "metrics=['accuracy'])\n",
        "\n",
        "# prepare the dimension and type of input data \n",
        "path = 'mnist.npz'\n",
        "(train_images, train_labels), (test_images, test_labels) = tf.keras.datasets.mnist.load_data(path)\n",
        "train_shear = train_shear.reshape((120000, 28 * 28))\n",
        "train_shear = train_shear.astype('float32') / 255\n",
        "\n",
        "test_images = test_images.reshape((10000, 28 * 28))\n",
        "test_images = test_images.astype('float32') / 255\n",
        "train_shear_labels = np.concatenate((train_labels,train_labels),axis = 0)\n",
        "\n",
        "print(train_shear_labels.shape)\n",
        "\n",
        "# prepare the label format\n",
        "from keras.utils import to_categorical\n",
        "train_shear_labels = to_categorical(train_shear_labels)\n",
        "test_labels = to_categorical(test_labels)\n",
        "train_shear_labels.shape\n",
        "\n",
        "# fit the model \n",
        "network.fit(train_shear, train_shear_labels, epochs=5, batch_size=128)\n",
        "test_loss, test_acc = network.evaluate(test_images, test_labels)\n",
        "print(test_acc)"
      ],
      "execution_count": 17,
      "outputs": [
        {
          "output_type": "stream",
          "text": [
            "(120000,)\n",
            "Epoch 1/5\n",
            "938/938 [==============================] - 10s 10ms/step - loss: 0.3732 - accuracy: 0.8906\n",
            "Epoch 2/5\n",
            "938/938 [==============================] - 9s 10ms/step - loss: 0.0921 - accuracy: 0.9730\n",
            "Epoch 3/5\n",
            "938/938 [==============================] - 9s 10ms/step - loss: 0.0586 - accuracy: 0.9829\n",
            "Epoch 4/5\n",
            "938/938 [==============================] - 9s 10ms/step - loss: 0.0420 - accuracy: 0.9872\n",
            "Epoch 5/5\n",
            "938/938 [==============================] - 9s 10ms/step - loss: 0.0346 - accuracy: 0.9895\n",
            "313/313 [==============================] - 1s 2ms/step - loss: 0.0668 - accuracy: 0.9816\n",
            "0.9815999865531921\n"
          ],
          "name": "stdout"
        }
      ]
    },
    {
      "cell_type": "code",
      "metadata": {
        "colab": {
          "base_uri": "https://localhost:8080/"
        },
        "id": "9JROzBNMra4B",
        "outputId": "498d0d49-a964-48c7-f1c1-918ae9c52258"
      },
      "source": [
        "# Data augmentation technique 3: Adding noise to the image\n",
        "train_noise =[]\n",
        "\n",
        "for i in np.arange(0, 60000):\n",
        "  image = train_images[i,:,:]\n",
        "  gaussian_noise=iaa.AdditiveGaussianNoise(10,20)\n",
        "  noise_image=gaussian_noise.augment_image(image)\n",
        "  train_noise.append(noise_image)\n",
        "\n",
        "train_noise = np.asarray(train_noise)\n",
        "print(train_noise.shape)\n",
        "\n",
        "train_noise = np.concatenate((train_images, train_noise), axis=0)\n",
        "print(train_noise.shape)"
      ],
      "execution_count": 14,
      "outputs": [
        {
          "output_type": "stream",
          "text": [
            "(60000, 28, 28)\n",
            "(120000, 28, 28)\n"
          ],
          "name": "stdout"
        }
      ]
    },
    {
      "cell_type": "code",
      "metadata": {
        "colab": {
          "base_uri": "https://localhost:8080/"
        },
        "id": "PZ75ELKHwQjt",
        "outputId": "f67c9a96-d33d-4794-882e-449bb229d026"
      },
      "source": [
        "from keras import models\n",
        "from keras import layers\n",
        "\n",
        "# construct a dense NN \n",
        "network = models.Sequential()\n",
        "network.add(layers.Dense(512, activation='relu', input_shape=(28 * 28,)))\n",
        "network.add(layers.Dense(10, activation='softmax'))\n",
        "\n",
        "network.compile(optimizer='rmsprop',\n",
        "loss='categorical_crossentropy',\n",
        "metrics=['accuracy'])\n",
        "\n",
        "# prepare the dimension and type of input data \n",
        "path = 'mnist.npz'\n",
        "(train_images, train_labels), (test_images, test_labels) = tf.keras.datasets.mnist.load_data(path)\n",
        "train_noise = train_noise.reshape((120000, 28 * 28))\n",
        "train_noise = train_noise.astype('float32') / 255\n",
        "\n",
        "test_images = test_images.reshape((10000, 28 * 28))\n",
        "test_images = test_images.astype('float32') / 255\n",
        "train_noise_labels = np.concatenate((train_labels,train_labels),axis = 0)\n",
        "\n",
        "print(train_noise_labels.shape)\n",
        "\n",
        "# prepare the label format\n",
        "from keras.utils import to_categorical\n",
        "train_noise_labels = to_categorical(train_noise_labels)\n",
        "test_labels = to_categorical(test_labels)\n",
        "train_noise_labels.shape\n",
        "\n",
        "# fit the model \n",
        "network.fit(train_noise, train_noise_labels, epochs=5, batch_size=128)\n",
        "test_loss, test_acc = network.evaluate(test_images, test_labels)\n",
        "print(test_acc)\n"
      ],
      "execution_count": 15,
      "outputs": [
        {
          "output_type": "stream",
          "text": [
            "(120000,)\n",
            "Epoch 1/5\n",
            "938/938 [==============================] - 10s 10ms/step - loss: 0.3499 - accuracy: 0.8966\n",
            "Epoch 2/5\n",
            "938/938 [==============================] - 9s 10ms/step - loss: 0.0692 - accuracy: 0.9784\n",
            "Epoch 3/5\n",
            "938/938 [==============================] - 9s 10ms/step - loss: 0.0364 - accuracy: 0.9885\n",
            "Epoch 4/5\n",
            "938/938 [==============================] - 9s 10ms/step - loss: 0.0209 - accuracy: 0.9938\n",
            "Epoch 5/5\n",
            "938/938 [==============================] - 9s 10ms/step - loss: 0.0128 - accuracy: 0.9961\n",
            "313/313 [==============================] - 1s 2ms/step - loss: 0.0676 - accuracy: 0.9821\n",
            "0.9821000099182129\n"
          ],
          "name": "stdout"
        }
      ]
    },
    {
      "cell_type": "markdown",
      "metadata": {
        "id": "5JkPVMoOd1f7"
      },
      "source": [
        "Results:\n",
        "1. With no data augmentation, the accuracy on test data is 0.9795. \n",
        "2. With rotation, the accuracy on test data is 0.3575.\n",
        "3. With adding guassian noise to the images, teh accuracy on the test data is 0.9821, which has better performance than the fitting without data augmentation. \n",
        "4. With adding guassian noise to the images, teh accuracy on the test data is 0.9816, which has better performance than the fitting without data augmentation. \n",
        "\n",
        "Discussion:\n",
        "1. It is not surprising to have a very poor performance when apply the rotation transformation. When we consider the handwritten digits, it might not be useful to use rotation transformation. Because for digit 6, rotation may increase ambiguity between digit 6 and 9. With the similar reason, flipping and zooming would also not give a better preformance or even give a lot of misclassifications.\n",
        "2. For adding guassian noise, this transformation still keeps the features of the digits and add the random noise to prevent overfitting. As we can see in the result, it gives a slightly better performance than the one with no data augmentation.\n"
      ]
    },
    {
      "cell_type": "code",
      "metadata": {
        "id": "Y3WRVjZu0eGj"
      },
      "source": [
        ""
      ],
      "execution_count": null,
      "outputs": []
    }
  ]
}