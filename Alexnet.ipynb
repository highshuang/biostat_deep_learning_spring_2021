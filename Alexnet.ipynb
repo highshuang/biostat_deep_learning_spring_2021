{
  "nbformat": 4,
  "nbformat_minor": 0,
  "metadata": {
    "colab": {
      "name": "Untitled0.ipynb",
      "provenance": [],
      "collapsed_sections": [],
      "authorship_tag": "ABX9TyPadQmajkBn6+pjIWJm+6Y1",
      "include_colab_link": true
    },
    "kernelspec": {
      "name": "python3",
      "display_name": "Python 3"
    },
    "language_info": {
      "name": "python"
    }
  },
  "cells": [
    {
      "cell_type": "markdown",
      "metadata": {
        "id": "view-in-github",
        "colab_type": "text"
      },
      "source": [
        "<a href=\"https://colab.research.google.com/github/highshuang/biostat_deep_learning_spring_2021/blob/develop/Alexnet.ipynb\" target=\"_parent\"><img src=\"https://colab.research.google.com/assets/colab-badge.svg\" alt=\"Open In Colab\"/></a>"
      ]
    },
    {
      "cell_type": "markdown",
      "metadata": {
        "id": "91NTEUPYxzpw"
      },
      "source": [
        "# Alexnet Implementation on Beans Dataset "
      ]
    },
    {
      "cell_type": "markdown",
      "metadata": {
        "id": "fijE9N5uyCDs"
      },
      "source": [
        "####Step 1: Import libraries and Beans data "
      ]
    },
    {
      "cell_type": "code",
      "metadata": {
        "colab": {
          "base_uri": "https://localhost:8080/"
        },
        "id": "iOWaKAzKydRj",
        "outputId": "e8a8addb-3675-443b-e658-4c950aeff2b8"
      },
      "source": [
        "import os \n",
        "import time\n",
        "import keras\n",
        "# Import TensorFlow and TensorFlow Datasets\n",
        "#Download the dataset and divide it into train and test\n",
        "datasets, info = tfds.load('beans', with_info=True, as_supervised=True)\n",
        "train_ds, test_ds, val_ds = datasets['train'], datasets['test'], datasets['validation']\n",
        "\n",
        "# show the information of dataset \n",
        "info"
      ],
      "execution_count": 96,
      "outputs": [
        {
          "output_type": "execute_result",
          "data": {
            "text/plain": [
              "tfds.core.DatasetInfo(\n",
              "    name='beans',\n",
              "    version=0.1.0,\n",
              "    description='Beans is a dataset of images of beans taken in the field using smartphone\n",
              "cameras. It consists of 3 classes: 2 disease classes and the healthy class.\n",
              "Diseases depicted include Angular Leaf Spot and Bean Rust. Data was annotated\n",
              "by experts from the National Crops Resources Research Institute (NaCRRI) in\n",
              "Uganda and collected by the Makerere AI research lab.',\n",
              "    homepage='https://github.com/AI-Lab-Makerere/ibean/',\n",
              "    features=FeaturesDict({\n",
              "        'image': Image(shape=(500, 500, 3), dtype=tf.uint8),\n",
              "        'label': ClassLabel(shape=(), dtype=tf.int64, num_classes=3),\n",
              "    }),\n",
              "    total_num_examples=1295,\n",
              "    splits={\n",
              "        'test': 128,\n",
              "        'train': 1034,\n",
              "        'validation': 133,\n",
              "    },\n",
              "    supervised_keys=('image', 'label'),\n",
              "    citation=\"\"\"@ONLINE {beansdata,\n",
              "        author=\"Makerere AI Lab\",\n",
              "        title=\"Bean disease dataset\",\n",
              "        month=\"January\",\n",
              "        year=\"2020\",\n",
              "        url=\"https://github.com/AI-Lab-Makerere/ibean/\"\n",
              "    }\"\"\",\n",
              "    redistribution_info=,\n",
              ")"
            ]
          },
          "metadata": {
            "tags": []
          },
          "execution_count": 96
        }
      ]
    },
    {
      "cell_type": "markdown",
      "metadata": {
        "id": "kqVGc68kyuOC"
      },
      "source": [
        "#### Step2: Resize image data to 227x227 "
      ]
    },
    {
      "cell_type": "code",
      "metadata": {
        "colab": {
          "base_uri": "https://localhost:8080/"
        },
        "id": "HqcIgo_mytKT",
        "outputId": "c231eef3-464b-42db-8c58-51cdd31012da"
      },
      "source": [
        "def scale(image, label):\n",
        "  image = tf.cast(image, tf.float32)\n",
        "  image /= 255.0\n",
        "  image = tf.image.resize(image, [227, 227])\n",
        "  return image, label\n",
        "\n",
        "train_ds = (train_ds.map(scale)\n",
        "                    .shuffle(buffer_size=1034)\n",
        "                    .batch(batch_size=32, drop_remainder=True))\n",
        "test_ds = (test_ds.map(scale)\n",
        "                    .shuffle(buffer_size=128)\n",
        "                    .batch(batch_size=32, drop_remainder=True))\n",
        "val_ds = (val_ds.map(scale)\n",
        "                    .shuffle(buffer_size=133)\n",
        "                    .batch(batch_size=32, drop_remainder=True))\n",
        "\n",
        "val_ds"
      ],
      "execution_count": 97,
      "outputs": [
        {
          "output_type": "execute_result",
          "data": {
            "text/plain": [
              "<BatchDataset shapes: ((32, 227, 227, 3), (32,)), types: (tf.float32, tf.int64)>"
            ]
          },
          "metadata": {
            "tags": []
          },
          "execution_count": 97
        }
      ]
    },
    {
      "cell_type": "markdown",
      "metadata": {
        "id": "MQEwmCTizU5d"
      },
      "source": [
        "Step 3: Build Alexnet construction with keras "
      ]
    },
    {
      "cell_type": "code",
      "metadata": {
        "colab": {
          "base_uri": "https://localhost:8080/"
        },
        "id": "b_GWGSsFzoVt",
        "outputId": "11d52af6-7353-40b3-b565-6848d75dd4e1"
      },
      "source": [
        "alexnet = keras.models.Sequential([\n",
        "# 1st Convolutional Layer\n",
        "keras.layers.Conv2D(filters=96, input_shape=(227,227,3), kernel_size=(11,11), strides=(4,4),  activation = \"relu\"),\n",
        "keras.layers.BatchNormalization(),\n",
        "keras.layers.MaxPooling2D(pool_size=(3,3), strides=(2,2)),\n",
        "\n",
        "# 2nd Convolutional Layer\n",
        "keras.layers.Conv2D(filters=256, kernel_size=(5,5), strides=(1,1), padding=\"same\", activation = \"relu\"),\n",
        "keras.layers.BatchNormalization(),\n",
        "keras.layers.MaxPooling2D(pool_size=(3,3), strides=(2,2)),\n",
        "\n",
        "# 3rd Convolutional Layer\n",
        "keras.layers.Conv2D(filters=384, kernel_size=(3,3), strides=(1,1), padding=\"same\", activation = \"relu\"),\n",
        "keras.layers.BatchNormalization(),\n",
        "\n",
        "# 4th Convolutional Layer\n",
        "keras.layers.Conv2D(filters=384, kernel_size=(3,3), strides=(1,1), padding=\"same\", activation = \"relu\"),\n",
        "keras.layers.BatchNormalization(),\n",
        "\n",
        "# 5th Convolutional Layer\n",
        "keras.layers.Conv2D(filters=256, kernel_size=(3,3), strides=(1,1), padding=\"same\", activation = \"relu\"),\n",
        "keras.layers.BatchNormalization(),\n",
        "keras.layers.MaxPooling2D(pool_size=(3,3), strides=(2,2)),\n",
        "\n",
        "# Passing it to a Fully Connected layer\n",
        "keras.layers.Flatten(),\n",
        "# 1st Fully Connected Layer\n",
        "keras.layers.Dense(units = 9216, activation = \"relu\"),\n",
        "keras.layers.Dropout(0.4),\n",
        "\n",
        "# 2nd Fully Connected Layer\n",
        "keras.layers.Dense(units = 4096, activation = \"relu\"),\n",
        "keras.layers.Dropout(0.4),\n",
        "\n",
        "# 3rd Fully Connected Layer\n",
        "keras.layers.Dense(4096, activation = \"relu\"),\n",
        "keras.layers.Dropout(0.4),\n",
        "\n",
        "# Output Layer\n",
        "keras.layers.Dense(3, activation = \"softmax\") #As we have three classes\n",
        "])\n",
        "\n",
        "alexnet.compile(loss='sparse_categorical_crossentropy',\n",
        "              optimizer=tf.optimizers.SGD(lr=0.01), metrics=['accuracy'])\n",
        "\n",
        "alexnet.summary()"
      ],
      "execution_count": 89,
      "outputs": [
        {
          "output_type": "stream",
          "text": [
            "Model: \"sequential_4\"\n",
            "_________________________________________________________________\n",
            "Layer (type)                 Output Shape              Param #   \n",
            "=================================================================\n",
            "conv2d_20 (Conv2D)           (None, 55, 55, 96)        34944     \n",
            "_________________________________________________________________\n",
            "batch_normalization_20 (Batc (None, 55, 55, 96)        384       \n",
            "_________________________________________________________________\n",
            "max_pooling2d_12 (MaxPooling (None, 27, 27, 96)        0         \n",
            "_________________________________________________________________\n",
            "conv2d_21 (Conv2D)           (None, 27, 27, 256)       614656    \n",
            "_________________________________________________________________\n",
            "batch_normalization_21 (Batc (None, 27, 27, 256)       1024      \n",
            "_________________________________________________________________\n",
            "max_pooling2d_13 (MaxPooling (None, 13, 13, 256)       0         \n",
            "_________________________________________________________________\n",
            "conv2d_22 (Conv2D)           (None, 13, 13, 384)       885120    \n",
            "_________________________________________________________________\n",
            "batch_normalization_22 (Batc (None, 13, 13, 384)       1536      \n",
            "_________________________________________________________________\n",
            "conv2d_23 (Conv2D)           (None, 13, 13, 384)       1327488   \n",
            "_________________________________________________________________\n",
            "batch_normalization_23 (Batc (None, 13, 13, 384)       1536      \n",
            "_________________________________________________________________\n",
            "conv2d_24 (Conv2D)           (None, 13, 13, 256)       884992    \n",
            "_________________________________________________________________\n",
            "batch_normalization_24 (Batc (None, 13, 13, 256)       1024      \n",
            "_________________________________________________________________\n",
            "max_pooling2d_14 (MaxPooling (None, 6, 6, 256)         0         \n",
            "_________________________________________________________________\n",
            "flatten_4 (Flatten)          (None, 9216)              0         \n",
            "_________________________________________________________________\n",
            "dense_16 (Dense)             (None, 9216)              84943872  \n",
            "_________________________________________________________________\n",
            "dropout_12 (Dropout)         (None, 9216)              0         \n",
            "_________________________________________________________________\n",
            "dense_17 (Dense)             (None, 4096)              37752832  \n",
            "_________________________________________________________________\n",
            "dropout_13 (Dropout)         (None, 4096)              0         \n",
            "_________________________________________________________________\n",
            "dense_18 (Dense)             (None, 4096)              16781312  \n",
            "_________________________________________________________________\n",
            "dropout_14 (Dropout)         (None, 4096)              0         \n",
            "_________________________________________________________________\n",
            "dense_19 (Dense)             (None, 3)                 12291     \n",
            "=================================================================\n",
            "Total params: 143,243,011\n",
            "Trainable params: 143,240,259\n",
            "Non-trainable params: 2,752\n",
            "_________________________________________________________________\n"
          ],
          "name": "stdout"
        }
      ]
    },
    {
      "cell_type": "markdown",
      "metadata": {
        "id": "ejqSF3Y3z5kg"
      },
      "source": [
        "#### Step 5: Train Alexnet with beans_train and beans_Validation"
      ]
    },
    {
      "cell_type": "code",
      "metadata": {
        "id": "XCCdesHQz5FZ"
      },
      "source": [
        "root_logdir = os.path.join(os.curdir, \"logs\\\\fit\\\\\")\n",
        "def get_run_logdir():\n",
        "  run_id = time.strftime(\"run_%Y_%m_%d-%H_%M_%S\")\n",
        "  return os.path.join(root_logdir, run_id)\n",
        "\n",
        "run_logdir = get_run_logdir()\n",
        "tensorboard_cb = keras.callbacks.TensorBoard(run_logdir)"
      ],
      "execution_count": 90,
      "outputs": []
    },
    {
      "cell_type": "code",
      "metadata": {
        "id": "bAVgn-Jaa24p"
      },
      "source": [
        "alexnet.compile(loss='sparse_categorical_crossentropy',\n",
        "              optimizer=tf.optimizers.SGD(lr=0.001), metrics=['accuracy'])"
      ],
      "execution_count": 75,
      "outputs": []
    },
    {
      "cell_type": "code",
      "metadata": {
        "colab": {
          "base_uri": "https://localhost:8080/"
        },
        "id": "XzLzsqftr9It",
        "outputId": "e4fb990f-692a-4c8d-98fc-4fb117b3fd14"
      },
      "source": [
        "import numpy as np \n",
        "np.random.seed(10)\n",
        "alexnet.fit(train_ds, epochs=15, validation_data=val_ds, validation_freq=1, callbacks=[tensorboard_cb])"
      ],
      "execution_count": 98,
      "outputs": [
        {
          "output_type": "stream",
          "text": [
            "Epoch 1/15\n",
            "32/32 [==============================] - 185s 6s/step - loss: 0.8166 - accuracy: 0.6826 - val_loss: 1.1976 - val_accuracy: 0.3203\n",
            "Epoch 2/15\n",
            "32/32 [==============================] - 183s 6s/step - loss: 0.6699 - accuracy: 0.7373 - val_loss: 1.3504 - val_accuracy: 0.3359\n",
            "Epoch 3/15\n",
            "32/32 [==============================] - 191s 6s/step - loss: 0.6452 - accuracy: 0.7305 - val_loss: 1.4620 - val_accuracy: 0.3359\n",
            "Epoch 4/15\n",
            "32/32 [==============================] - 182s 6s/step - loss: 0.6260 - accuracy: 0.7461 - val_loss: 1.6060 - val_accuracy: 0.3828\n",
            "Epoch 5/15\n",
            "32/32 [==============================] - 183s 6s/step - loss: 0.5180 - accuracy: 0.7910 - val_loss: 1.3500 - val_accuracy: 0.4453\n",
            "Epoch 6/15\n",
            "32/32 [==============================] - 183s 6s/step - loss: 0.4500 - accuracy: 0.8164 - val_loss: 1.6360 - val_accuracy: 0.4141\n",
            "Epoch 7/15\n",
            "32/32 [==============================] - 185s 6s/step - loss: 0.3912 - accuracy: 0.8496 - val_loss: 1.0710 - val_accuracy: 0.5234\n",
            "Epoch 8/15\n",
            "32/32 [==============================] - 183s 6s/step - loss: 0.3583 - accuracy: 0.8604 - val_loss: 0.7097 - val_accuracy: 0.6719\n",
            "Epoch 9/15\n",
            "32/32 [==============================] - 186s 6s/step - loss: 0.2955 - accuracy: 0.8809 - val_loss: 0.7422 - val_accuracy: 0.6797\n",
            "Epoch 10/15\n",
            "32/32 [==============================] - 184s 6s/step - loss: 0.3011 - accuracy: 0.8838 - val_loss: 0.6754 - val_accuracy: 0.7266\n",
            "Epoch 11/15\n",
            "32/32 [==============================] - 185s 6s/step - loss: 0.2389 - accuracy: 0.9043 - val_loss: 0.7974 - val_accuracy: 0.7344\n",
            "Epoch 12/15\n",
            "32/32 [==============================] - 185s 6s/step - loss: 0.2478 - accuracy: 0.9043 - val_loss: 0.5185 - val_accuracy: 0.7969\n",
            "Epoch 13/15\n",
            "32/32 [==============================] - 184s 6s/step - loss: 0.1951 - accuracy: 0.9189 - val_loss: 0.6261 - val_accuracy: 0.7578\n",
            "Epoch 14/15\n",
            "32/32 [==============================] - 199s 6s/step - loss: 0.1848 - accuracy: 0.9287 - val_loss: 0.4898 - val_accuracy: 0.8203\n",
            "Epoch 15/15\n",
            "32/32 [==============================] - 195s 6s/step - loss: 0.1062 - accuracy: 0.9619 - val_loss: 0.5797 - val_accuracy: 0.7656\n"
          ],
          "name": "stdout"
        },
        {
          "output_type": "execute_result",
          "data": {
            "text/plain": [
              "<tensorflow.python.keras.callbacks.History at 0x7f09c17da410>"
            ]
          },
          "metadata": {
            "tags": []
          },
          "execution_count": 98
        }
      ]
    },
    {
      "cell_type": "code",
      "metadata": {
        "colab": {
          "base_uri": "https://localhost:8080/"
        },
        "id": "iZxz27eLT12S",
        "outputId": "40465622-e877-4405-e2b3-79d364b7835c"
      },
      "source": [
        "alexnet.evaluate(test_ds)"
      ],
      "execution_count": 99,
      "outputs": [
        {
          "output_type": "stream",
          "text": [
            "4/4 [==============================] - 6s 1s/step - loss: 0.5413 - accuracy: 0.8516\n"
          ],
          "name": "stdout"
        },
        {
          "output_type": "execute_result",
          "data": {
            "text/plain": [
              "[0.5413299202919006, 0.8515625]"
            ]
          },
          "metadata": {
            "tags": []
          },
          "execution_count": 99
        }
      ]
    }
  ]
}